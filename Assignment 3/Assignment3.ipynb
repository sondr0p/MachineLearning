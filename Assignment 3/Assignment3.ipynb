{
 "cells": [
  {
   "cell_type": "markdown",
   "metadata": {},
   "source": [
    "# Assignment 3\n",
    "### Instructor: Vagelis Papalexakis\n",
    "### Credit for  Assignment 3: 10/35 points of the final grade\n",
    "\n",
    "In this assignment we will implement the K-means clustering algorithm. We are going to use the same dataset as in the previous two assignments (<b>Note</b>: make sure you copy the dataset from Assignment 1 to the folder of this assignment!)."
   ]
  },
  {
   "cell_type": "code",
   "execution_count": 22,
   "metadata": {},
   "outputs": [],
   "source": [
    "import numpy as np\n",
    "import pandas as pd\n",
    "import matplotlib.pyplot as plt\n",
    "import seaborn as sb\n",
    "import random as rand\n",
    "from sklearn.model_selection import train_test_split\n",
    "\n",
    "\n",
    "data_names = ['sepal_length', 'sepal_width', 'petal_length', 'petal_width', 'label']\n",
    "data = pd.read_csv('iris.data', \n",
    "                   names = data_names)"
   ]
  },
  {
   "cell_type": "markdown",
   "metadata": {},
   "source": [
    "## Question 1: Implementing and testing K-means clustering [100%]\n",
    "### Question 1a: Implementing K-Means clustering [50%]\n",
    "In this question you should implement a function that performs k-means clustering, using the Euclidean distance (you may use Numpy libraries for the distance computation). For calculation of the centroid you should use the 'mean' function.\n",
    "\n",
    "For uniformity, you should implement a function with the following specifications:\n",
    "```python\n",
    "def kmeans_clustering(all_vals,K,max_iter = 100, tol = pow(10,-3) ):\n",
    "```\n",
    "where 1) 'all_vals' is the $N \\times M$ matrix that contains all data points ($N$ is the number of data points and $M$ is the number of features, each row of the matrix is a data point), 2) 'K' is the number of clusters, 3) 'max_iter' is the maxium number of iterations, and 4) 'tol' is the tolerance for the change of the sum of squares of errors that determines convergence.\n",
    "\n",
    "Your function should return the following variables: 1) 'assignments': this is a $N\\times 1$ vector (where $N$ is the number of data points) where the $i$-th position of that vector contains the cluster number that the $i$-th data point is assigned to, 2) 'centroids': this is a $K\\times M$ matrix, each row of which contains the centroid for every cluster, 3) 'all_sse': this is a vector that contains all the sum of squares of errors per iteration of the algorithm, and 4) 'iters': this is the number of iterations that the algorithm ran.\n",
    "\n",
    "Here we are going to implement the simplest version of K-means, where the initial centroids are chosen entirely at random among all the data points.\n",
    "\n",
    "As we saw in class, the K-means algorithm iterates over the following steps:\n",
    "- Given a set of centroids, assign all data points to the cluster represented by its nearest centroid (according to Euclidean distance)\n",
    "- Given a set of assignments of points to clusters, compute the new centroids for every cluster, by taking the mean of all the points assigned to each cluster.\n",
    "\n",
    "Your algorithm should converge if 1) the maximum number of iteratiosn is reached, or 2) if the SSE between two consecutive iterations does not change a lot (as in the gradient descent for linear regression we saw in Assignment 2). In order to check for the latter condition, you may use the following piece of code:\n",
    "```python\n",
    "if np.absolute(all_sse[it] - all_sse[it-1])/all_sse[it-1] <= tol\n",
    "```\n",
    "\n",
    "In order to calculate the SSE (sum of squares of error) first you need to define what an 'error' is. In k-means, error per data point refers to the Euclidean distance of that particular point from its assigned centroid. SSE sums up all those squared Euclidean distances for all data points and comes up with a number that reflects the total error of approximating every data points by its assigned centroid.\n",
    "\n",
    "\n"
   ]
  },
  {
   "cell_type": "code",
   "execution_count": 144,
   "metadata": {},
   "outputs": [
    {
     "data": {
      "text/plain": [
       "(array([0., 0., 0., 0., 0., 0., 0., 0., 0., 0., 0., 0., 0., 0., 0., 0., 0.,\n",
       "        0., 0., 0., 0., 0., 0., 0., 0., 0., 0., 0., 0., 0., 0., 0., 0., 0.,\n",
       "        0., 0., 0., 0., 0., 0., 0., 0., 0., 0., 0., 0., 0., 0., 0., 0., 2.,\n",
       "        2., 1., 2., 2., 2., 2., 2., 2., 2., 2., 2., 2., 2., 2., 2., 2., 2.,\n",
       "        2., 2., 2., 2., 2., 2., 2., 2., 2., 1., 2., 2., 2., 2., 2., 2., 2.,\n",
       "        2., 2., 2., 2., 2., 2., 2., 2., 2., 2., 2., 2., 2., 2., 2., 1., 2.,\n",
       "        1., 1., 1., 1., 2., 1., 1., 1., 1., 1., 1., 2., 2., 1., 1., 1., 1.,\n",
       "        2., 1., 2., 1., 2., 1., 1., 2., 2., 1., 1., 1., 1., 1., 2., 1., 1.,\n",
       "        1., 1., 2., 1., 1., 1., 2., 1., 1., 1., 2., 1., 1., 2.]),\n",
       " array([[5.006     , 3.418     , 1.464     , 0.244     ],\n",
       "        [6.85      , 3.07368421, 5.74210526, 2.07105263],\n",
       "        [5.9016129 , 2.7483871 , 4.39354839, 1.43387097]]),\n",
       " [5.172000000000001,\n",
       "  0.9279373968058293,\n",
       "  0.5563693574993507,\n",
       "  0.530281674336575,\n",
       "  0.5266630449097136,\n",
       "  0.5262722761743066],\n",
       " 5)"
      ]
     },
     "execution_count": 144,
     "metadata": {},
     "output_type": "execute_result"
    }
   ],
   "source": [
    "#k-means clustering\n",
    "from numpy import zeros\n",
    "import random\n",
    "def kmeans_clustering(all_vals,K,max_iter = 100, tol = pow(10,-3)):\n",
    "    \n",
    "    shape = all_vals.shape\n",
    "    N = shape[0]\n",
    "    M = shape[1] - 1 # subtract 1 to exclude label\n",
    "    centroids = zeros([K,M])\n",
    "    iters = 0\n",
    "    assignments = zeros([N])\n",
    "    all_sse = []\n",
    "    \n",
    "    \n",
    "    # Gets random points from sample \n",
    "    randIndex = random.sample(range(N), K)\n",
    "    randPoints = [0] * K\n",
    "    for i in range(K):\n",
    "        randPoint = all_vals.loc[randIndex[i], \"sepal_length\":\"petal_width\"]\n",
    "        randPoints[i] = randPoint\n",
    "        for j in range(len(randPoint)):\n",
    "            centroids[i][j] = randPoint[j]\n",
    "    \n",
    "    for it in range(max_iter):\n",
    "        error = 0\n",
    "        \n",
    "        # Find smallest distance from cluster point to each data point\n",
    "        for n in range(N):\n",
    "\n",
    "            # Data row (point)\n",
    "            point = all_vals.loc[n, \"sepal_length\":\"petal_width\"]\n",
    "            \n",
    "            # Distance is an array of distances from point to a cluster point\n",
    "            Distance = [0] * K\n",
    "            for i in range(len(randPoints)):\n",
    "                Distance[i] = np.linalg.norm(point - centroids[i])\n",
    "            \n",
    "            assignments[n] = Distance.index(min(Distance))\n",
    "            error += (min(Distance) ** 2)\n",
    "\n",
    "        all_sse.append(error / float(N))\n",
    "\n",
    "        if(it > 0):\n",
    "            if(np.absolute(all_sse[it] - all_sse[it-1])/all_sse[it-1] <= tol):\n",
    "                break\n",
    "                \n",
    "        # Compute the new centroids for every cluster, by taking the mean of all the points assigned to each cluster\n",
    "        totalSum = [0] * K\n",
    "        count = [0] * K\n",
    "        for n in range(N):\n",
    "            cluster = assignments[n]\n",
    "            totalSum[int(cluster)] += all_vals.loc[n, \"sepal_length\":\"petal_width\"]\n",
    "            count[int(cluster)] += 1\n",
    "        mean = totalSum\n",
    "        for i in range(K):\n",
    "            if(count[i] == 0):\n",
    "                centroids[i] = 0\n",
    "            else:\n",
    "                mean[i] = mean[i] / count[i]\n",
    "                centroids[i] = mean[i]\n",
    "    \n",
    "    return assignments, centroids, all_sse, it\n",
    "\n",
    "\n",
    "kmeans_clustering(all_vals = data, K = 3, max_iter = 100, tol = pow(10,-3))"
   ]
  },
  {
   "cell_type": "markdown",
   "metadata": {},
   "source": [
    "### Question 1b: Visualizing K-means [10%]\n",
    "In this question we wll visualize the result of the K-means algorithm. For ease of visualization, we will focus on a scatterplot of two of the four features of the Iris dataset. In particular: run your K-means code with K=3 and default values for the rest of the inputs. Subsequently, make a single scatterplot that contains all data points of the dataset for features 'sepal_length' and 'petal_length' and color every data point according to its cluster assignment."
   ]
  },
  {
   "cell_type": "code",
   "execution_count": 118,
   "metadata": {},
   "outputs": [
    {
     "name": "stdout",
     "output_type": "stream",
     "text": [
      "[1. 1. 1. 1. 1. 1. 1. 1. 1. 1. 1. 1. 1. 1. 1. 1. 1. 1. 1. 1. 1. 1. 1. 1.\n",
      " 1. 1. 1. 1. 1. 1. 1. 1. 1. 1. 1. 1. 1. 1. 1. 1. 1. 1. 1. 1. 1. 1. 1. 1.\n",
      " 1. 1. 0. 0. 2. 0. 0. 0. 0. 0. 0. 0. 0. 0. 0. 0. 0. 0. 0. 0. 0. 0. 0. 0.\n",
      " 0. 0. 0. 0. 0. 2. 0. 0. 0. 0. 0. 0. 0. 0. 0. 0. 0. 0. 0. 0. 0. 0. 0. 0.\n",
      " 0. 0. 0. 0. 2. 0. 2. 2. 2. 2. 0. 2. 2. 2. 2. 2. 2. 0. 0. 2. 2. 2. 2. 0.\n",
      " 2. 0. 2. 0. 2. 2. 0. 0. 2. 2. 2. 2. 2. 0. 2. 2. 2. 2. 0. 2. 2. 2. 0. 2.\n",
      " 2. 2. 0. 2. 2. 0.]\n"
     ]
    },
    {
     "data": {
      "image/png": "[encoded data removed]",
      "text/plain": [
       "<Figure size 432x288 with 1 Axes>"
      ]
     },
     "metadata": {
      "needs_background": "light"
     },
     "output_type": "display_data"
    }
   ],
   "source": [
    "assignments, centroids, all_sse, it = kmeans_clustering(all_vals = data, K = 3, max_iter = 100, tol = pow(10,-3))\n",
    "print(assignments)\n",
    "x = data[\"sepal_length\"]\n",
    "y = data[\"petal_length\"]\n",
    "for i in range(len(x)):\n",
    "    cluster = int(assignments[i])\n",
    "    if(cluster == 0):\n",
    "        plt.scatter(x[i], y[i], c = \"red\")\n",
    "    if(cluster == 1):\n",
    "        plt.scatter(x[i], y[i], c = \"blue\")\n",
    "    if(cluster == 2):\n",
    "        plt.scatter(x[i], y[i], c = \"green\")\n"
   ]
  },
  {
   "cell_type": "markdown",
   "metadata": {},
   "source": [
    "### Question 1c: Testing K-means [40%]\n",
    "Selecting the right number of clusters $K$ is a very challenging problem, especially when we don't have some side-information or domain expertise that can help us narrow down a few reasonable values for that parameter. \n",
    "\n",
    "In the absence of any other information, a very useful exercise is to create the plot of SSE (sum of squares of errors) as a function of $K$. Ideally, for a very small $K$, the error will be high (since we are trying to approximate a whole lot of points with a very small number of centroids) and as $K$ increases, the error decreases. However, after a certain value (or a couple of values) for $K$, we will notice diminishing returns, i.e., the error will be decreasing, but not to a great degree. Typically, the value(s) for $K$ where this behavior is observed (the threshold point after which we observe diminishing returns) is usually a good guess for the number of clusters. \n",
    "\n",
    "In this question, we will have to create the SSE vs. K plot for $K = 1\\cdots10$. Furthermore, because K-means uses randomized initialization, we need to do a number of iterations per value of $K$ in order to get a good estimate of the actual SSE (which may not be caused by randomness in the initialization). For this question, you will have to run the entire K-means algorithm to completion, and repeat it 50 different times per $K$, and collect all SSEs. In the figure, you should report the mean SSE per $K$, surrounded by error-bars which will encode the standard deviation."
   ]
  },
  {
   "cell_type": "code",
   "execution_count": 148,
   "metadata": {},
   "outputs": [
    {
     "name": "stdout",
     "output_type": "stream",
     "text": [
      "K:  1   4.538829333333332   0.0\n",
      "K:  2   1.0157913765155946   0.0\n",
      "K:  3   0.5785622683560608   0.1415800683329313\n",
      "K:  4   0.4388451829389621   0.1121309224715262\n",
      "K:  5   0.34374739561251305   0.04560856015004067\n",
      "K:  6   0.3107183812182797   0.05739595240410866\n",
      "K:  7   0.2790651527527348   0.056095075958210346\n",
      "K:  8   0.25051052700805554   0.043629785962233936\n",
      "K:  9   0.21940946449556192   0.029451325271550456\n",
      "K:  10   0.20473903712777372   0.028021329217565494\n"
     ]
    },
    {
     "data": {
      "text/plain": [
       "<ErrorbarContainer object of 3 artists>"
      ]
     },
     "execution_count": 148,
     "metadata": {},
     "output_type": "execute_result"
    },
    {
     "data": {
      "image/png": "[encoded data removed]",
      "text/plain": [
       "<Figure size 432x288 with 1 Axes>"
      ]
     },
     "metadata": {
      "needs_background": "light"
     },
     "output_type": "display_data"
    }
   ],
   "source": [
    "# WARNING!!!\n",
    "# THIS WILL TAKE A LONG TIME TO RUN\n",
    "K = 10\n",
    "meanError = [0] * K\n",
    "devError = [0] * K\n",
    "\n",
    "for k in range(1, K + 1):\n",
    "    totalError = []\n",
    "    for i in range(50):\n",
    "        assignments, centroids, all_sse, it = kmeans_clustering(all_vals = data, K = k, max_iter = 100, tol = pow(10,-3))\n",
    "        totalError.append(all_sse[len(all_sse) - 1])\n",
    "    meanError[k - 1] = (np.mean(totalError))\n",
    "    devError[k - 1] = (np.std(totalError))\n",
    "    print(\"K: \", k, \" \", meanError[k-1], \" \", devError[k-1])\n",
    "\n",
    "x = np.arange(1, K + 1)\n",
    "plt.errorbar(x, y = meanError, yerr=devError)"
   ]
  }
 ],
 "metadata": {
  "kernelspec": {
   "display_name": "Python 3",
   "language": "python",
   "name": "python3"
  },
  "language_info": {
   "codemirror_mode": {
    "name": "ipython",
    "version": 3
   },
   "file_extension": ".py",
   "mimetype": "text/x-python",
   "name": "python",
   "nbconvert_exporter": "python",
   "pygments_lexer": "ipython3",
   "version": "3.7.1"
  }
 },
 "nbformat": 4,
 "nbformat_minor": 2
}
